{
 "cells": [
  {
   "cell_type": "code",
   "execution_count": null,
   "metadata": {
    "id": "dMl7NynYb02F"
   },
   "outputs": [],
   "source": [
    "import numpy as np\n",
    "import pandas as pd\n",
    "from matplotlib import pyplot as plt"
   ]
  },
  {
   "cell_type": "code",
   "execution_count": null,
   "metadata": {
    "colab": {
     "base_uri": "https://localhost:8080/",
     "height": 73
    },
    "id": "MD3rFOVmccBU",
    "outputId": "863b2de7-e625-4050-95d1-185df8f62d23"
   },
   "outputs": [
    {
     "data": {
      "text/html": [
       "\n",
       "     <input type=\"file\" id=\"files-10ec3619-fc44-4125-beab-7134e49548a8\" name=\"files[]\" multiple disabled\n",
       "        style=\"border:none\" />\n",
       "     <output id=\"result-10ec3619-fc44-4125-beab-7134e49548a8\">\n",
       "      Upload widget is only available when the cell has been executed in the\n",
       "      current browser session. Please rerun this cell to enable.\n",
       "      </output>\n",
       "      <script>// Copyright 2017 Google LLC\n",
       "//\n",
       "// Licensed under the Apache License, Version 2.0 (the \"License\");\n",
       "// you may not use this file except in compliance with the License.\n",
       "// You may obtain a copy of the License at\n",
       "//\n",
       "//      http://www.apache.org/licenses/LICENSE-2.0\n",
       "//\n",
       "// Unless required by applicable law or agreed to in writing, software\n",
       "// distributed under the License is distributed on an \"AS IS\" BASIS,\n",
       "// WITHOUT WARRANTIES OR CONDITIONS OF ANY KIND, either express or implied.\n",
       "// See the License for the specific language governing permissions and\n",
       "// limitations under the License.\n",
       "\n",
       "/**\n",
       " * @fileoverview Helpers for google.colab Python module.\n",
       " */\n",
       "(function(scope) {\n",
       "function span(text, styleAttributes = {}) {\n",
       "  const element = document.createElement('span');\n",
       "  element.textContent = text;\n",
       "  for (const key of Object.keys(styleAttributes)) {\n",
       "    element.style[key] = styleAttributes[key];\n",
       "  }\n",
       "  return element;\n",
       "}\n",
       "\n",
       "// Max number of bytes which will be uploaded at a time.\n",
       "const MAX_PAYLOAD_SIZE = 100 * 1024;\n",
       "\n",
       "function _uploadFiles(inputId, outputId) {\n",
       "  const steps = uploadFilesStep(inputId, outputId);\n",
       "  const outputElement = document.getElementById(outputId);\n",
       "  // Cache steps on the outputElement to make it available for the next call\n",
       "  // to uploadFilesContinue from Python.\n",
       "  outputElement.steps = steps;\n",
       "\n",
       "  return _uploadFilesContinue(outputId);\n",
       "}\n",
       "\n",
       "// This is roughly an async generator (not supported in the browser yet),\n",
       "// where there are multiple asynchronous steps and the Python side is going\n",
       "// to poll for completion of each step.\n",
       "// This uses a Promise to block the python side on completion of each step,\n",
       "// then passes the result of the previous step as the input to the next step.\n",
       "function _uploadFilesContinue(outputId) {\n",
       "  const outputElement = document.getElementById(outputId);\n",
       "  const steps = outputElement.steps;\n",
       "\n",
       "  const next = steps.next(outputElement.lastPromiseValue);\n",
       "  return Promise.resolve(next.value.promise).then((value) => {\n",
       "    // Cache the last promise value to make it available to the next\n",
       "    // step of the generator.\n",
       "    outputElement.lastPromiseValue = value;\n",
       "    return next.value.response;\n",
       "  });\n",
       "}\n",
       "\n",
       "/**\n",
       " * Generator function which is called between each async step of the upload\n",
       " * process.\n",
       " * @param {string} inputId Element ID of the input file picker element.\n",
       " * @param {string} outputId Element ID of the output display.\n",
       " * @return {!Iterable<!Object>} Iterable of next steps.\n",
       " */\n",
       "function* uploadFilesStep(inputId, outputId) {\n",
       "  const inputElement = document.getElementById(inputId);\n",
       "  inputElement.disabled = false;\n",
       "\n",
       "  const outputElement = document.getElementById(outputId);\n",
       "  outputElement.innerHTML = '';\n",
       "\n",
       "  const pickedPromise = new Promise((resolve) => {\n",
       "    inputElement.addEventListener('change', (e) => {\n",
       "      resolve(e.target.files);\n",
       "    });\n",
       "  });\n",
       "\n",
       "  const cancel = document.createElement('button');\n",
       "  inputElement.parentElement.appendChild(cancel);\n",
       "  cancel.textContent = 'Cancel upload';\n",
       "  const cancelPromise = new Promise((resolve) => {\n",
       "    cancel.onclick = () => {\n",
       "      resolve(null);\n",
       "    };\n",
       "  });\n",
       "\n",
       "  // Wait for the user to pick the files.\n",
       "  const files = yield {\n",
       "    promise: Promise.race([pickedPromise, cancelPromise]),\n",
       "    response: {\n",
       "      action: 'starting',\n",
       "    }\n",
       "  };\n",
       "\n",
       "  cancel.remove();\n",
       "\n",
       "  // Disable the input element since further picks are not allowed.\n",
       "  inputElement.disabled = true;\n",
       "\n",
       "  if (!files) {\n",
       "    return {\n",
       "      response: {\n",
       "        action: 'complete',\n",
       "      }\n",
       "    };\n",
       "  }\n",
       "\n",
       "  for (const file of files) {\n",
       "    const li = document.createElement('li');\n",
       "    li.append(span(file.name, {fontWeight: 'bold'}));\n",
       "    li.append(span(\n",
       "        `(${file.type || 'n/a'}) - ${file.size} bytes, ` +\n",
       "        `last modified: ${\n",
       "            file.lastModifiedDate ? file.lastModifiedDate.toLocaleDateString() :\n",
       "                                    'n/a'} - `));\n",
       "    const percent = span('0% done');\n",
       "    li.appendChild(percent);\n",
       "\n",
       "    outputElement.appendChild(li);\n",
       "\n",
       "    const fileDataPromise = new Promise((resolve) => {\n",
       "      const reader = new FileReader();\n",
       "      reader.onload = (e) => {\n",
       "        resolve(e.target.result);\n",
       "      };\n",
       "      reader.readAsArrayBuffer(file);\n",
       "    });\n",
       "    // Wait for the data to be ready.\n",
       "    let fileData = yield {\n",
       "      promise: fileDataPromise,\n",
       "      response: {\n",
       "        action: 'continue',\n",
       "      }\n",
       "    };\n",
       "\n",
       "    // Use a chunked sending to avoid message size limits. See b/62115660.\n",
       "    let position = 0;\n",
       "    do {\n",
       "      const length = Math.min(fileData.byteLength - position, MAX_PAYLOAD_SIZE);\n",
       "      const chunk = new Uint8Array(fileData, position, length);\n",
       "      position += length;\n",
       "\n",
       "      const base64 = btoa(String.fromCharCode.apply(null, chunk));\n",
       "      yield {\n",
       "        response: {\n",
       "          action: 'append',\n",
       "          file: file.name,\n",
       "          data: base64,\n",
       "        },\n",
       "      };\n",
       "\n",
       "      let percentDone = fileData.byteLength === 0 ?\n",
       "          100 :\n",
       "          Math.round((position / fileData.byteLength) * 100);\n",
       "      percent.textContent = `${percentDone}% done`;\n",
       "\n",
       "    } while (position < fileData.byteLength);\n",
       "  }\n",
       "\n",
       "  // All done.\n",
       "  yield {\n",
       "    response: {\n",
       "      action: 'complete',\n",
       "    }\n",
       "  };\n",
       "}\n",
       "\n",
       "scope.google = scope.google || {};\n",
       "scope.google.colab = scope.google.colab || {};\n",
       "scope.google.colab._files = {\n",
       "  _uploadFiles,\n",
       "  _uploadFilesContinue,\n",
       "};\n",
       "})(self);\n",
       "</script> "
      ],
      "text/plain": [
       "<IPython.core.display.HTML object>"
      ]
     },
     "metadata": {},
     "output_type": "display_data"
    },
    {
     "name": "stdout",
     "output_type": "stream",
     "text": [
      "Saving heart.csv to heart (1).csv\n"
     ]
    }
   ],
   "source": [
    "from google.colab import files\n",
    "uploaded = files.upload()"
   ]
  },
  {
   "cell_type": "code",
   "execution_count": null,
   "metadata": {
    "colab": {
     "base_uri": "https://localhost:8080/",
     "height": 487
    },
    "id": "I8si-G69cfGC",
    "outputId": "dbb31922-41e9-45bd-dfbf-d5cd35825f5a"
   },
   "outputs": [
    {
     "data": {
      "text/html": [
       "\n",
       "  <div id=\"df-a2edb229-7905-44cd-8ecc-8a8f295d92f4\">\n",
       "    <div class=\"colab-df-container\">\n",
       "      <div>\n",
       "<style scoped>\n",
       "    .dataframe tbody tr th:only-of-type {\n",
       "        vertical-align: middle;\n",
       "    }\n",
       "\n",
       "    .dataframe tbody tr th {\n",
       "        vertical-align: top;\n",
       "    }\n",
       "\n",
       "    .dataframe thead th {\n",
       "        text-align: right;\n",
       "    }\n",
       "</style>\n",
       "<table border=\"1\" class=\"dataframe\">\n",
       "  <thead>\n",
       "    <tr style=\"text-align: right;\">\n",
       "      <th></th>\n",
       "      <th>HeartDisease</th>\n",
       "      <th>BMI</th>\n",
       "      <th>Smoking</th>\n",
       "      <th>AlcoholDrinking</th>\n",
       "      <th>Stroke</th>\n",
       "      <th>PhysicalHealth</th>\n",
       "      <th>MentalHealth</th>\n",
       "      <th>DiffWalking</th>\n",
       "      <th>Sex</th>\n",
       "      <th>AgeCategory</th>\n",
       "      <th>Race</th>\n",
       "      <th>Diabetic</th>\n",
       "      <th>PhysicalActivity</th>\n",
       "      <th>GenHealth</th>\n",
       "      <th>SleepTime</th>\n",
       "      <th>Asthma</th>\n",
       "      <th>KidneyDisease</th>\n",
       "      <th>SkinCancer</th>\n",
       "    </tr>\n",
       "  </thead>\n",
       "  <tbody>\n",
       "    <tr>\n",
       "      <th>0</th>\n",
       "      <td>No</td>\n",
       "      <td>16.60</td>\n",
       "      <td>Yes</td>\n",
       "      <td>No</td>\n",
       "      <td>No</td>\n",
       "      <td>3.0</td>\n",
       "      <td>30.0</td>\n",
       "      <td>No</td>\n",
       "      <td>Female</td>\n",
       "      <td>55-59</td>\n",
       "      <td>White</td>\n",
       "      <td>Yes</td>\n",
       "      <td>Yes</td>\n",
       "      <td>Very good</td>\n",
       "      <td>5.0</td>\n",
       "      <td>Yes</td>\n",
       "      <td>No</td>\n",
       "      <td>Yes</td>\n",
       "    </tr>\n",
       "    <tr>\n",
       "      <th>1</th>\n",
       "      <td>No</td>\n",
       "      <td>20.34</td>\n",
       "      <td>No</td>\n",
       "      <td>No</td>\n",
       "      <td>Yes</td>\n",
       "      <td>0.0</td>\n",
       "      <td>0.0</td>\n",
       "      <td>No</td>\n",
       "      <td>Female</td>\n",
       "      <td>80 or older</td>\n",
       "      <td>White</td>\n",
       "      <td>No</td>\n",
       "      <td>Yes</td>\n",
       "      <td>Very good</td>\n",
       "      <td>7.0</td>\n",
       "      <td>No</td>\n",
       "      <td>No</td>\n",
       "      <td>No</td>\n",
       "    </tr>\n",
       "    <tr>\n",
       "      <th>2</th>\n",
       "      <td>No</td>\n",
       "      <td>26.58</td>\n",
       "      <td>Yes</td>\n",
       "      <td>No</td>\n",
       "      <td>No</td>\n",
       "      <td>20.0</td>\n",
       "      <td>30.0</td>\n",
       "      <td>No</td>\n",
       "      <td>Male</td>\n",
       "      <td>65-69</td>\n",
       "      <td>White</td>\n",
       "      <td>Yes</td>\n",
       "      <td>Yes</td>\n",
       "      <td>Fair</td>\n",
       "      <td>8.0</td>\n",
       "      <td>Yes</td>\n",
       "      <td>No</td>\n",
       "      <td>No</td>\n",
       "    </tr>\n",
       "    <tr>\n",
       "      <th>3</th>\n",
       "      <td>No</td>\n",
       "      <td>24.21</td>\n",
       "      <td>No</td>\n",
       "      <td>No</td>\n",
       "      <td>No</td>\n",
       "      <td>0.0</td>\n",
       "      <td>0.0</td>\n",
       "      <td>No</td>\n",
       "      <td>Female</td>\n",
       "      <td>75-79</td>\n",
       "      <td>White</td>\n",
       "      <td>No</td>\n",
       "      <td>No</td>\n",
       "      <td>Good</td>\n",
       "      <td>6.0</td>\n",
       "      <td>No</td>\n",
       "      <td>No</td>\n",
       "      <td>Yes</td>\n",
       "    </tr>\n",
       "    <tr>\n",
       "      <th>4</th>\n",
       "      <td>No</td>\n",
       "      <td>23.71</td>\n",
       "      <td>No</td>\n",
       "      <td>No</td>\n",
       "      <td>No</td>\n",
       "      <td>28.0</td>\n",
       "      <td>0.0</td>\n",
       "      <td>Yes</td>\n",
       "      <td>Female</td>\n",
       "      <td>40-44</td>\n",
       "      <td>White</td>\n",
       "      <td>No</td>\n",
       "      <td>Yes</td>\n",
       "      <td>Very good</td>\n",
       "      <td>8.0</td>\n",
       "      <td>No</td>\n",
       "      <td>No</td>\n",
       "      <td>No</td>\n",
       "    </tr>\n",
       "    <tr>\n",
       "      <th>...</th>\n",
       "      <td>...</td>\n",
       "      <td>...</td>\n",
       "      <td>...</td>\n",
       "      <td>...</td>\n",
       "      <td>...</td>\n",
       "      <td>...</td>\n",
       "      <td>...</td>\n",
       "      <td>...</td>\n",
       "      <td>...</td>\n",
       "      <td>...</td>\n",
       "      <td>...</td>\n",
       "      <td>...</td>\n",
       "      <td>...</td>\n",
       "      <td>...</td>\n",
       "      <td>...</td>\n",
       "      <td>...</td>\n",
       "      <td>...</td>\n",
       "      <td>...</td>\n",
       "    </tr>\n",
       "    <tr>\n",
       "      <th>319790</th>\n",
       "      <td>Yes</td>\n",
       "      <td>27.41</td>\n",
       "      <td>Yes</td>\n",
       "      <td>No</td>\n",
       "      <td>No</td>\n",
       "      <td>7.0</td>\n",
       "      <td>0.0</td>\n",
       "      <td>Yes</td>\n",
       "      <td>Male</td>\n",
       "      <td>60-64</td>\n",
       "      <td>Hispanic</td>\n",
       "      <td>Yes</td>\n",
       "      <td>No</td>\n",
       "      <td>Fair</td>\n",
       "      <td>6.0</td>\n",
       "      <td>Yes</td>\n",
       "      <td>No</td>\n",
       "      <td>No</td>\n",
       "    </tr>\n",
       "    <tr>\n",
       "      <th>319791</th>\n",
       "      <td>No</td>\n",
       "      <td>29.84</td>\n",
       "      <td>Yes</td>\n",
       "      <td>No</td>\n",
       "      <td>No</td>\n",
       "      <td>0.0</td>\n",
       "      <td>0.0</td>\n",
       "      <td>No</td>\n",
       "      <td>Male</td>\n",
       "      <td>35-39</td>\n",
       "      <td>Hispanic</td>\n",
       "      <td>No</td>\n",
       "      <td>Yes</td>\n",
       "      <td>Very good</td>\n",
       "      <td>5.0</td>\n",
       "      <td>Yes</td>\n",
       "      <td>No</td>\n",
       "      <td>No</td>\n",
       "    </tr>\n",
       "    <tr>\n",
       "      <th>319792</th>\n",
       "      <td>No</td>\n",
       "      <td>24.24</td>\n",
       "      <td>No</td>\n",
       "      <td>No</td>\n",
       "      <td>No</td>\n",
       "      <td>0.0</td>\n",
       "      <td>0.0</td>\n",
       "      <td>No</td>\n",
       "      <td>Female</td>\n",
       "      <td>45-49</td>\n",
       "      <td>Hispanic</td>\n",
       "      <td>No</td>\n",
       "      <td>Yes</td>\n",
       "      <td>Good</td>\n",
       "      <td>6.0</td>\n",
       "      <td>No</td>\n",
       "      <td>No</td>\n",
       "      <td>No</td>\n",
       "    </tr>\n",
       "    <tr>\n",
       "      <th>319793</th>\n",
       "      <td>No</td>\n",
       "      <td>32.81</td>\n",
       "      <td>No</td>\n",
       "      <td>No</td>\n",
       "      <td>No</td>\n",
       "      <td>0.0</td>\n",
       "      <td>0.0</td>\n",
       "      <td>No</td>\n",
       "      <td>Female</td>\n",
       "      <td>25-29</td>\n",
       "      <td>Hispanic</td>\n",
       "      <td>No</td>\n",
       "      <td>No</td>\n",
       "      <td>Good</td>\n",
       "      <td>12.0</td>\n",
       "      <td>No</td>\n",
       "      <td>No</td>\n",
       "      <td>No</td>\n",
       "    </tr>\n",
       "    <tr>\n",
       "      <th>319794</th>\n",
       "      <td>No</td>\n",
       "      <td>46.56</td>\n",
       "      <td>No</td>\n",
       "      <td>No</td>\n",
       "      <td>No</td>\n",
       "      <td>0.0</td>\n",
       "      <td>0.0</td>\n",
       "      <td>No</td>\n",
       "      <td>Female</td>\n",
       "      <td>80 or older</td>\n",
       "      <td>Hispanic</td>\n",
       "      <td>No</td>\n",
       "      <td>Yes</td>\n",
       "      <td>Good</td>\n",
       "      <td>8.0</td>\n",
       "      <td>No</td>\n",
       "      <td>No</td>\n",
       "      <td>No</td>\n",
       "    </tr>\n",
       "  </tbody>\n",
       "</table>\n",
       "<p>319795 rows × 18 columns</p>\n",
       "</div>\n",
       "      <button class=\"colab-df-convert\" onclick=\"convertToInteractive('df-a2edb229-7905-44cd-8ecc-8a8f295d92f4')\"\n",
       "              title=\"Convert this dataframe to an interactive table.\"\n",
       "              style=\"display:none;\">\n",
       "        \n",
       "  <svg xmlns=\"http://www.w3.org/2000/svg\" height=\"24px\"viewBox=\"0 0 24 24\"\n",
       "       width=\"24px\">\n",
       "    <path d=\"M0 0h24v24H0V0z\" fill=\"none\"/>\n",
       "    <path d=\"M18.56 5.44l.94 2.06.94-2.06 2.06-.94-2.06-.94-.94-2.06-.94 2.06-2.06.94zm-11 1L8.5 8.5l.94-2.06 2.06-.94-2.06-.94L8.5 2.5l-.94 2.06-2.06.94zm10 10l.94 2.06.94-2.06 2.06-.94-2.06-.94-.94-2.06-.94 2.06-2.06.94z\"/><path d=\"M17.41 7.96l-1.37-1.37c-.4-.4-.92-.59-1.43-.59-.52 0-1.04.2-1.43.59L10.3 9.45l-7.72 7.72c-.78.78-.78 2.05 0 2.83L4 21.41c.39.39.9.59 1.41.59.51 0 1.02-.2 1.41-.59l7.78-7.78 2.81-2.81c.8-.78.8-2.07 0-2.86zM5.41 20L4 18.59l7.72-7.72 1.47 1.35L5.41 20z\"/>\n",
       "  </svg>\n",
       "      </button>\n",
       "      \n",
       "  <style>\n",
       "    .colab-df-container {\n",
       "      display:flex;\n",
       "      flex-wrap:wrap;\n",
       "      gap: 12px;\n",
       "    }\n",
       "\n",
       "    .colab-df-convert {\n",
       "      background-color: #E8F0FE;\n",
       "      border: none;\n",
       "      border-radius: 50%;\n",
       "      cursor: pointer;\n",
       "      display: none;\n",
       "      fill: #1967D2;\n",
       "      height: 32px;\n",
       "      padding: 0 0 0 0;\n",
       "      width: 32px;\n",
       "    }\n",
       "\n",
       "    .colab-df-convert:hover {\n",
       "      background-color: #E2EBFA;\n",
       "      box-shadow: 0px 1px 2px rgba(60, 64, 67, 0.3), 0px 1px 3px 1px rgba(60, 64, 67, 0.15);\n",
       "      fill: #174EA6;\n",
       "    }\n",
       "\n",
       "    [theme=dark] .colab-df-convert {\n",
       "      background-color: #3B4455;\n",
       "      fill: #D2E3FC;\n",
       "    }\n",
       "\n",
       "    [theme=dark] .colab-df-convert:hover {\n",
       "      background-color: #434B5C;\n",
       "      box-shadow: 0px 1px 3px 1px rgba(0, 0, 0, 0.15);\n",
       "      filter: drop-shadow(0px 1px 2px rgba(0, 0, 0, 0.3));\n",
       "      fill: #FFFFFF;\n",
       "    }\n",
       "  </style>\n",
       "\n",
       "      <script>\n",
       "        const buttonEl =\n",
       "          document.querySelector('#df-a2edb229-7905-44cd-8ecc-8a8f295d92f4 button.colab-df-convert');\n",
       "        buttonEl.style.display =\n",
       "          google.colab.kernel.accessAllowed ? 'block' : 'none';\n",
       "\n",
       "        async function convertToInteractive(key) {\n",
       "          const element = document.querySelector('#df-a2edb229-7905-44cd-8ecc-8a8f295d92f4');\n",
       "          const dataTable =\n",
       "            await google.colab.kernel.invokeFunction('convertToInteractive',\n",
       "                                                     [key], {});\n",
       "          if (!dataTable) return;\n",
       "\n",
       "          const docLinkHtml = 'Like what you see? Visit the ' +\n",
       "            '<a target=\"_blank\" href=https://colab.research.google.com/notebooks/data_table.ipynb>data table notebook</a>'\n",
       "            + ' to learn more about interactive tables.';\n",
       "          element.innerHTML = '';\n",
       "          dataTable['output_type'] = 'display_data';\n",
       "          await google.colab.output.renderOutput(dataTable, element);\n",
       "          const docLink = document.createElement('div');\n",
       "          docLink.innerHTML = docLinkHtml;\n",
       "          element.appendChild(docLink);\n",
       "        }\n",
       "      </script>\n",
       "    </div>\n",
       "  </div>\n",
       "  "
      ],
      "text/plain": [
       "       HeartDisease    BMI Smoking AlcoholDrinking Stroke  PhysicalHealth  \\\n",
       "0                No  16.60     Yes              No     No             3.0   \n",
       "1                No  20.34      No              No    Yes             0.0   \n",
       "2                No  26.58     Yes              No     No            20.0   \n",
       "3                No  24.21      No              No     No             0.0   \n",
       "4                No  23.71      No              No     No            28.0   \n",
       "...             ...    ...     ...             ...    ...             ...   \n",
       "319790          Yes  27.41     Yes              No     No             7.0   \n",
       "319791           No  29.84     Yes              No     No             0.0   \n",
       "319792           No  24.24      No              No     No             0.0   \n",
       "319793           No  32.81      No              No     No             0.0   \n",
       "319794           No  46.56      No              No     No             0.0   \n",
       "\n",
       "        MentalHealth DiffWalking     Sex  AgeCategory      Race Diabetic  \\\n",
       "0               30.0          No  Female        55-59     White      Yes   \n",
       "1                0.0          No  Female  80 or older     White       No   \n",
       "2               30.0          No    Male        65-69     White      Yes   \n",
       "3                0.0          No  Female        75-79     White       No   \n",
       "4                0.0         Yes  Female        40-44     White       No   \n",
       "...              ...         ...     ...          ...       ...      ...   \n",
       "319790           0.0         Yes    Male        60-64  Hispanic      Yes   \n",
       "319791           0.0          No    Male        35-39  Hispanic       No   \n",
       "319792           0.0          No  Female        45-49  Hispanic       No   \n",
       "319793           0.0          No  Female        25-29  Hispanic       No   \n",
       "319794           0.0          No  Female  80 or older  Hispanic       No   \n",
       "\n",
       "       PhysicalActivity  GenHealth  SleepTime Asthma KidneyDisease SkinCancer  \n",
       "0                   Yes  Very good        5.0    Yes            No        Yes  \n",
       "1                   Yes  Very good        7.0     No            No         No  \n",
       "2                   Yes       Fair        8.0    Yes            No         No  \n",
       "3                    No       Good        6.0     No            No        Yes  \n",
       "4                   Yes  Very good        8.0     No            No         No  \n",
       "...                 ...        ...        ...    ...           ...        ...  \n",
       "319790               No       Fair        6.0    Yes            No         No  \n",
       "319791              Yes  Very good        5.0    Yes            No         No  \n",
       "319792              Yes       Good        6.0     No            No         No  \n",
       "319793               No       Good       12.0     No            No         No  \n",
       "319794              Yes       Good        8.0     No            No         No  \n",
       "\n",
       "[319795 rows x 18 columns]"
      ]
     },
     "execution_count": 209,
     "metadata": {},
     "output_type": "execute_result"
    }
   ],
   "source": [
    "df=pd.read_csv('heart.csv')\n",
    "\n",
    "df"
   ]
  },
  {
   "cell_type": "code",
   "execution_count": null,
   "metadata": {
    "colab": {
     "base_uri": "https://localhost:8080/",
     "height": 487
    },
    "id": "HB0B2JKPeDRN",
    "outputId": "9ec5c140-ebdb-4d66-bb6a-16a6d4f5588b"
   },
   "outputs": [
    {
     "data": {
      "text/html": [
       "\n",
       "  <div id=\"df-dfe909c8-57d3-443a-a08b-04d8f377cce1\">\n",
       "    <div class=\"colab-df-container\">\n",
       "      <div>\n",
       "<style scoped>\n",
       "    .dataframe tbody tr th:only-of-type {\n",
       "        vertical-align: middle;\n",
       "    }\n",
       "\n",
       "    .dataframe tbody tr th {\n",
       "        vertical-align: top;\n",
       "    }\n",
       "\n",
       "    .dataframe thead th {\n",
       "        text-align: right;\n",
       "    }\n",
       "</style>\n",
       "<table border=\"1\" class=\"dataframe\">\n",
       "  <thead>\n",
       "    <tr style=\"text-align: right;\">\n",
       "      <th></th>\n",
       "      <th>HeartDisease</th>\n",
       "      <th>BMI</th>\n",
       "      <th>Smoking</th>\n",
       "      <th>AlcoholDrinking</th>\n",
       "      <th>Stroke</th>\n",
       "      <th>PhysicalHealth</th>\n",
       "      <th>MentalHealth</th>\n",
       "      <th>DiffWalking</th>\n",
       "      <th>Sex</th>\n",
       "      <th>AgeCategory</th>\n",
       "      <th>Race</th>\n",
       "      <th>Diabetic</th>\n",
       "      <th>PhysicalActivity</th>\n",
       "      <th>GenHealth</th>\n",
       "      <th>SleepTime</th>\n",
       "      <th>Asthma</th>\n",
       "      <th>KidneyDisease</th>\n",
       "      <th>SkinCancer</th>\n",
       "    </tr>\n",
       "  </thead>\n",
       "  <tbody>\n",
       "    <tr>\n",
       "      <th>0</th>\n",
       "      <td>0</td>\n",
       "      <td>16.60</td>\n",
       "      <td>1</td>\n",
       "      <td>0</td>\n",
       "      <td>No</td>\n",
       "      <td>3.0</td>\n",
       "      <td>30.0</td>\n",
       "      <td>No</td>\n",
       "      <td>1</td>\n",
       "      <td>55-59</td>\n",
       "      <td>White</td>\n",
       "      <td>Yes</td>\n",
       "      <td>1</td>\n",
       "      <td>Very good</td>\n",
       "      <td>5.0</td>\n",
       "      <td>1</td>\n",
       "      <td>No</td>\n",
       "      <td>Yes</td>\n",
       "    </tr>\n",
       "    <tr>\n",
       "      <th>1</th>\n",
       "      <td>0</td>\n",
       "      <td>20.34</td>\n",
       "      <td>0</td>\n",
       "      <td>0</td>\n",
       "      <td>Yes</td>\n",
       "      <td>0.0</td>\n",
       "      <td>0.0</td>\n",
       "      <td>No</td>\n",
       "      <td>1</td>\n",
       "      <td>80 or older</td>\n",
       "      <td>White</td>\n",
       "      <td>No</td>\n",
       "      <td>1</td>\n",
       "      <td>Very good</td>\n",
       "      <td>7.0</td>\n",
       "      <td>0</td>\n",
       "      <td>No</td>\n",
       "      <td>No</td>\n",
       "    </tr>\n",
       "    <tr>\n",
       "      <th>2</th>\n",
       "      <td>0</td>\n",
       "      <td>26.58</td>\n",
       "      <td>1</td>\n",
       "      <td>0</td>\n",
       "      <td>No</td>\n",
       "      <td>20.0</td>\n",
       "      <td>30.0</td>\n",
       "      <td>No</td>\n",
       "      <td>0</td>\n",
       "      <td>65-69</td>\n",
       "      <td>White</td>\n",
       "      <td>Yes</td>\n",
       "      <td>1</td>\n",
       "      <td>Fair</td>\n",
       "      <td>8.0</td>\n",
       "      <td>1</td>\n",
       "      <td>No</td>\n",
       "      <td>No</td>\n",
       "    </tr>\n",
       "    <tr>\n",
       "      <th>3</th>\n",
       "      <td>0</td>\n",
       "      <td>24.21</td>\n",
       "      <td>0</td>\n",
       "      <td>0</td>\n",
       "      <td>No</td>\n",
       "      <td>0.0</td>\n",
       "      <td>0.0</td>\n",
       "      <td>No</td>\n",
       "      <td>1</td>\n",
       "      <td>75-79</td>\n",
       "      <td>White</td>\n",
       "      <td>No</td>\n",
       "      <td>0</td>\n",
       "      <td>Good</td>\n",
       "      <td>6.0</td>\n",
       "      <td>0</td>\n",
       "      <td>No</td>\n",
       "      <td>Yes</td>\n",
       "    </tr>\n",
       "    <tr>\n",
       "      <th>4</th>\n",
       "      <td>0</td>\n",
       "      <td>23.71</td>\n",
       "      <td>0</td>\n",
       "      <td>0</td>\n",
       "      <td>No</td>\n",
       "      <td>28.0</td>\n",
       "      <td>0.0</td>\n",
       "      <td>Yes</td>\n",
       "      <td>1</td>\n",
       "      <td>40-44</td>\n",
       "      <td>White</td>\n",
       "      <td>No</td>\n",
       "      <td>1</td>\n",
       "      <td>Very good</td>\n",
       "      <td>8.0</td>\n",
       "      <td>0</td>\n",
       "      <td>No</td>\n",
       "      <td>No</td>\n",
       "    </tr>\n",
       "    <tr>\n",
       "      <th>...</th>\n",
       "      <td>...</td>\n",
       "      <td>...</td>\n",
       "      <td>...</td>\n",
       "      <td>...</td>\n",
       "      <td>...</td>\n",
       "      <td>...</td>\n",
       "      <td>...</td>\n",
       "      <td>...</td>\n",
       "      <td>...</td>\n",
       "      <td>...</td>\n",
       "      <td>...</td>\n",
       "      <td>...</td>\n",
       "      <td>...</td>\n",
       "      <td>...</td>\n",
       "      <td>...</td>\n",
       "      <td>...</td>\n",
       "      <td>...</td>\n",
       "      <td>...</td>\n",
       "    </tr>\n",
       "    <tr>\n",
       "      <th>319790</th>\n",
       "      <td>1</td>\n",
       "      <td>27.41</td>\n",
       "      <td>1</td>\n",
       "      <td>0</td>\n",
       "      <td>No</td>\n",
       "      <td>7.0</td>\n",
       "      <td>0.0</td>\n",
       "      <td>Yes</td>\n",
       "      <td>0</td>\n",
       "      <td>60-64</td>\n",
       "      <td>Hispanic</td>\n",
       "      <td>Yes</td>\n",
       "      <td>0</td>\n",
       "      <td>Fair</td>\n",
       "      <td>6.0</td>\n",
       "      <td>1</td>\n",
       "      <td>No</td>\n",
       "      <td>No</td>\n",
       "    </tr>\n",
       "    <tr>\n",
       "      <th>319791</th>\n",
       "      <td>0</td>\n",
       "      <td>29.84</td>\n",
       "      <td>1</td>\n",
       "      <td>0</td>\n",
       "      <td>No</td>\n",
       "      <td>0.0</td>\n",
       "      <td>0.0</td>\n",
       "      <td>No</td>\n",
       "      <td>0</td>\n",
       "      <td>35-39</td>\n",
       "      <td>Hispanic</td>\n",
       "      <td>No</td>\n",
       "      <td>1</td>\n",
       "      <td>Very good</td>\n",
       "      <td>5.0</td>\n",
       "      <td>1</td>\n",
       "      <td>No</td>\n",
       "      <td>No</td>\n",
       "    </tr>\n",
       "    <tr>\n",
       "      <th>319792</th>\n",
       "      <td>0</td>\n",
       "      <td>24.24</td>\n",
       "      <td>0</td>\n",
       "      <td>0</td>\n",
       "      <td>No</td>\n",
       "      <td>0.0</td>\n",
       "      <td>0.0</td>\n",
       "      <td>No</td>\n",
       "      <td>1</td>\n",
       "      <td>45-49</td>\n",
       "      <td>Hispanic</td>\n",
       "      <td>No</td>\n",
       "      <td>1</td>\n",
       "      <td>Good</td>\n",
       "      <td>6.0</td>\n",
       "      <td>0</td>\n",
       "      <td>No</td>\n",
       "      <td>No</td>\n",
       "    </tr>\n",
       "    <tr>\n",
       "      <th>319793</th>\n",
       "      <td>0</td>\n",
       "      <td>32.81</td>\n",
       "      <td>0</td>\n",
       "      <td>0</td>\n",
       "      <td>No</td>\n",
       "      <td>0.0</td>\n",
       "      <td>0.0</td>\n",
       "      <td>No</td>\n",
       "      <td>1</td>\n",
       "      <td>25-29</td>\n",
       "      <td>Hispanic</td>\n",
       "      <td>No</td>\n",
       "      <td>0</td>\n",
       "      <td>Good</td>\n",
       "      <td>12.0</td>\n",
       "      <td>0</td>\n",
       "      <td>No</td>\n",
       "      <td>No</td>\n",
       "    </tr>\n",
       "    <tr>\n",
       "      <th>319794</th>\n",
       "      <td>0</td>\n",
       "      <td>46.56</td>\n",
       "      <td>0</td>\n",
       "      <td>0</td>\n",
       "      <td>No</td>\n",
       "      <td>0.0</td>\n",
       "      <td>0.0</td>\n",
       "      <td>No</td>\n",
       "      <td>1</td>\n",
       "      <td>80 or older</td>\n",
       "      <td>Hispanic</td>\n",
       "      <td>No</td>\n",
       "      <td>1</td>\n",
       "      <td>Good</td>\n",
       "      <td>8.0</td>\n",
       "      <td>0</td>\n",
       "      <td>No</td>\n",
       "      <td>No</td>\n",
       "    </tr>\n",
       "  </tbody>\n",
       "</table>\n",
       "<p>319795 rows × 18 columns</p>\n",
       "</div>\n",
       "      <button class=\"colab-df-convert\" onclick=\"convertToInteractive('df-dfe909c8-57d3-443a-a08b-04d8f377cce1')\"\n",
       "              title=\"Convert this dataframe to an interactive table.\"\n",
       "              style=\"display:none;\">\n",
       "        \n",
       "  <svg xmlns=\"http://www.w3.org/2000/svg\" height=\"24px\"viewBox=\"0 0 24 24\"\n",
       "       width=\"24px\">\n",
       "    <path d=\"M0 0h24v24H0V0z\" fill=\"none\"/>\n",
       "    <path d=\"M18.56 5.44l.94 2.06.94-2.06 2.06-.94-2.06-.94-.94-2.06-.94 2.06-2.06.94zm-11 1L8.5 8.5l.94-2.06 2.06-.94-2.06-.94L8.5 2.5l-.94 2.06-2.06.94zm10 10l.94 2.06.94-2.06 2.06-.94-2.06-.94-.94-2.06-.94 2.06-2.06.94z\"/><path d=\"M17.41 7.96l-1.37-1.37c-.4-.4-.92-.59-1.43-.59-.52 0-1.04.2-1.43.59L10.3 9.45l-7.72 7.72c-.78.78-.78 2.05 0 2.83L4 21.41c.39.39.9.59 1.41.59.51 0 1.02-.2 1.41-.59l7.78-7.78 2.81-2.81c.8-.78.8-2.07 0-2.86zM5.41 20L4 18.59l7.72-7.72 1.47 1.35L5.41 20z\"/>\n",
       "  </svg>\n",
       "      </button>\n",
       "      \n",
       "  <style>\n",
       "    .colab-df-container {\n",
       "      display:flex;\n",
       "      flex-wrap:wrap;\n",
       "      gap: 12px;\n",
       "    }\n",
       "\n",
       "    .colab-df-convert {\n",
       "      background-color: #E8F0FE;\n",
       "      border: none;\n",
       "      border-radius: 50%;\n",
       "      cursor: pointer;\n",
       "      display: none;\n",
       "      fill: #1967D2;\n",
       "      height: 32px;\n",
       "      padding: 0 0 0 0;\n",
       "      width: 32px;\n",
       "    }\n",
       "\n",
       "    .colab-df-convert:hover {\n",
       "      background-color: #E2EBFA;\n",
       "      box-shadow: 0px 1px 2px rgba(60, 64, 67, 0.3), 0px 1px 3px 1px rgba(60, 64, 67, 0.15);\n",
       "      fill: #174EA6;\n",
       "    }\n",
       "\n",
       "    [theme=dark] .colab-df-convert {\n",
       "      background-color: #3B4455;\n",
       "      fill: #D2E3FC;\n",
       "    }\n",
       "\n",
       "    [theme=dark] .colab-df-convert:hover {\n",
       "      background-color: #434B5C;\n",
       "      box-shadow: 0px 1px 3px 1px rgba(0, 0, 0, 0.15);\n",
       "      filter: drop-shadow(0px 1px 2px rgba(0, 0, 0, 0.3));\n",
       "      fill: #FFFFFF;\n",
       "    }\n",
       "  </style>\n",
       "\n",
       "      <script>\n",
       "        const buttonEl =\n",
       "          document.querySelector('#df-dfe909c8-57d3-443a-a08b-04d8f377cce1 button.colab-df-convert');\n",
       "        buttonEl.style.display =\n",
       "          google.colab.kernel.accessAllowed ? 'block' : 'none';\n",
       "\n",
       "        async function convertToInteractive(key) {\n",
       "          const element = document.querySelector('#df-dfe909c8-57d3-443a-a08b-04d8f377cce1');\n",
       "          const dataTable =\n",
       "            await google.colab.kernel.invokeFunction('convertToInteractive',\n",
       "                                                     [key], {});\n",
       "          if (!dataTable) return;\n",
       "\n",
       "          const docLinkHtml = 'Like what you see? Visit the ' +\n",
       "            '<a target=\"_blank\" href=https://colab.research.google.com/notebooks/data_table.ipynb>data table notebook</a>'\n",
       "            + ' to learn more about interactive tables.';\n",
       "          element.innerHTML = '';\n",
       "          dataTable['output_type'] = 'display_data';\n",
       "          await google.colab.output.renderOutput(dataTable, element);\n",
       "          const docLink = document.createElement('div');\n",
       "          docLink.innerHTML = docLinkHtml;\n",
       "          element.appendChild(docLink);\n",
       "        }\n",
       "      </script>\n",
       "    </div>\n",
       "  </div>\n",
       "  "
      ],
      "text/plain": [
       "       HeartDisease    BMI Smoking AlcoholDrinking Stroke  PhysicalHealth  \\\n",
       "0                 0  16.60       1               0     No             3.0   \n",
       "1                 0  20.34       0               0    Yes             0.0   \n",
       "2                 0  26.58       1               0     No            20.0   \n",
       "3                 0  24.21       0               0     No             0.0   \n",
       "4                 0  23.71       0               0     No            28.0   \n",
       "...             ...    ...     ...             ...    ...             ...   \n",
       "319790            1  27.41       1               0     No             7.0   \n",
       "319791            0  29.84       1               0     No             0.0   \n",
       "319792            0  24.24       0               0     No             0.0   \n",
       "319793            0  32.81       0               0     No             0.0   \n",
       "319794            0  46.56       0               0     No             0.0   \n",
       "\n",
       "        MentalHealth DiffWalking Sex  AgeCategory      Race Diabetic  \\\n",
       "0               30.0          No   1        55-59     White      Yes   \n",
       "1                0.0          No   1  80 or older     White       No   \n",
       "2               30.0          No   0        65-69     White      Yes   \n",
       "3                0.0          No   1        75-79     White       No   \n",
       "4                0.0         Yes   1        40-44     White       No   \n",
       "...              ...         ...  ..          ...       ...      ...   \n",
       "319790           0.0         Yes   0        60-64  Hispanic      Yes   \n",
       "319791           0.0          No   0        35-39  Hispanic       No   \n",
       "319792           0.0          No   1        45-49  Hispanic       No   \n",
       "319793           0.0          No   1        25-29  Hispanic       No   \n",
       "319794           0.0          No   1  80 or older  Hispanic       No   \n",
       "\n",
       "       PhysicalActivity  GenHealth  SleepTime Asthma KidneyDisease SkinCancer  \n",
       "0                     1  Very good        5.0      1            No        Yes  \n",
       "1                     1  Very good        7.0      0            No         No  \n",
       "2                     1       Fair        8.0      1            No         No  \n",
       "3                     0       Good        6.0      0            No        Yes  \n",
       "4                     1  Very good        8.0      0            No         No  \n",
       "...                 ...        ...        ...    ...           ...        ...  \n",
       "319790                0       Fair        6.0      1            No         No  \n",
       "319791                1  Very good        5.0      1            No         No  \n",
       "319792                1       Good        6.0      0            No         No  \n",
       "319793                0       Good       12.0      0            No         No  \n",
       "319794                1       Good        8.0      0            No         No  \n",
       "\n",
       "[319795 rows x 18 columns]"
      ]
     },
     "execution_count": 210,
     "metadata": {},
     "output_type": "execute_result"
    }
   ],
   "source": [
    "df['Smoking'] = df['Smoking'].replace(['Yes', 'No'], ['1', '0'])\n",
    "df['HeartDisease'] = df['HeartDisease'].replace(['Yes', 'No'], ['1', '0'])\n",
    "df['Sex'] = df['Sex'].replace(['Female', 'Male'], ['1', '0'])\n",
    "df['PhysicalActivity'] = df['PhysicalActivity'].replace(['Yes', 'No'], ['1', '0'])\n",
    "df['Asthma'] = df['Asthma'].replace(['Yes', 'No'], ['1', '0'])\n",
    "df['AlcoholDrinking'] = df['AlcoholDrinking'].replace(['Yes', 'No'], ['1', '0'])\n",
    "df"
   ]
  },
  {
   "cell_type": "code",
   "execution_count": null,
   "metadata": {
    "id": "5ba1tFkdeU64"
   },
   "outputs": [],
   "source": [
    "df1=df.drop(['Stroke','PhysicalHealth','DiffWalking','AgeCategory','Race','Diabetic','GenHealth','KidneyDisease','SkinCancer'],axis=1)"
   ]
  },
  {
   "cell_type": "code",
   "execution_count": null,
   "metadata": {
    "colab": {
     "base_uri": "https://localhost:8080/",
     "height": 423
    },
    "id": "283pmTR1L68a",
    "outputId": "10939982-2294-405b-c455-aa1ebccfed73"
   },
   "outputs": [
    {
     "data": {
      "text/html": [
       "\n",
       "  <div id=\"df-108a8124-0a87-45a6-aef5-1ef7aab5eec3\">\n",
       "    <div class=\"colab-df-container\">\n",
       "      <div>\n",
       "<style scoped>\n",
       "    .dataframe tbody tr th:only-of-type {\n",
       "        vertical-align: middle;\n",
       "    }\n",
       "\n",
       "    .dataframe tbody tr th {\n",
       "        vertical-align: top;\n",
       "    }\n",
       "\n",
       "    .dataframe thead th {\n",
       "        text-align: right;\n",
       "    }\n",
       "</style>\n",
       "<table border=\"1\" class=\"dataframe\">\n",
       "  <thead>\n",
       "    <tr style=\"text-align: right;\">\n",
       "      <th></th>\n",
       "      <th>HeartDisease</th>\n",
       "      <th>BMI</th>\n",
       "      <th>Smoking</th>\n",
       "      <th>AlcoholDrinking</th>\n",
       "      <th>MentalHealth</th>\n",
       "      <th>Sex</th>\n",
       "      <th>PhysicalActivity</th>\n",
       "      <th>SleepTime</th>\n",
       "      <th>Asthma</th>\n",
       "    </tr>\n",
       "  </thead>\n",
       "  <tbody>\n",
       "    <tr>\n",
       "      <th>0</th>\n",
       "      <td>0</td>\n",
       "      <td>16.60</td>\n",
       "      <td>1</td>\n",
       "      <td>0</td>\n",
       "      <td>30.0</td>\n",
       "      <td>1</td>\n",
       "      <td>1</td>\n",
       "      <td>5.0</td>\n",
       "      <td>1</td>\n",
       "    </tr>\n",
       "    <tr>\n",
       "      <th>1</th>\n",
       "      <td>0</td>\n",
       "      <td>20.34</td>\n",
       "      <td>0</td>\n",
       "      <td>0</td>\n",
       "      <td>0.0</td>\n",
       "      <td>1</td>\n",
       "      <td>1</td>\n",
       "      <td>7.0</td>\n",
       "      <td>0</td>\n",
       "    </tr>\n",
       "    <tr>\n",
       "      <th>2</th>\n",
       "      <td>0</td>\n",
       "      <td>26.58</td>\n",
       "      <td>1</td>\n",
       "      <td>0</td>\n",
       "      <td>30.0</td>\n",
       "      <td>0</td>\n",
       "      <td>1</td>\n",
       "      <td>8.0</td>\n",
       "      <td>1</td>\n",
       "    </tr>\n",
       "    <tr>\n",
       "      <th>3</th>\n",
       "      <td>0</td>\n",
       "      <td>24.21</td>\n",
       "      <td>0</td>\n",
       "      <td>0</td>\n",
       "      <td>0.0</td>\n",
       "      <td>1</td>\n",
       "      <td>0</td>\n",
       "      <td>6.0</td>\n",
       "      <td>0</td>\n",
       "    </tr>\n",
       "    <tr>\n",
       "      <th>4</th>\n",
       "      <td>0</td>\n",
       "      <td>23.71</td>\n",
       "      <td>0</td>\n",
       "      <td>0</td>\n",
       "      <td>0.0</td>\n",
       "      <td>1</td>\n",
       "      <td>1</td>\n",
       "      <td>8.0</td>\n",
       "      <td>0</td>\n",
       "    </tr>\n",
       "    <tr>\n",
       "      <th>...</th>\n",
       "      <td>...</td>\n",
       "      <td>...</td>\n",
       "      <td>...</td>\n",
       "      <td>...</td>\n",
       "      <td>...</td>\n",
       "      <td>...</td>\n",
       "      <td>...</td>\n",
       "      <td>...</td>\n",
       "      <td>...</td>\n",
       "    </tr>\n",
       "    <tr>\n",
       "      <th>319790</th>\n",
       "      <td>1</td>\n",
       "      <td>27.41</td>\n",
       "      <td>1</td>\n",
       "      <td>0</td>\n",
       "      <td>0.0</td>\n",
       "      <td>0</td>\n",
       "      <td>0</td>\n",
       "      <td>6.0</td>\n",
       "      <td>1</td>\n",
       "    </tr>\n",
       "    <tr>\n",
       "      <th>319791</th>\n",
       "      <td>0</td>\n",
       "      <td>29.84</td>\n",
       "      <td>1</td>\n",
       "      <td>0</td>\n",
       "      <td>0.0</td>\n",
       "      <td>0</td>\n",
       "      <td>1</td>\n",
       "      <td>5.0</td>\n",
       "      <td>1</td>\n",
       "    </tr>\n",
       "    <tr>\n",
       "      <th>319792</th>\n",
       "      <td>0</td>\n",
       "      <td>24.24</td>\n",
       "      <td>0</td>\n",
       "      <td>0</td>\n",
       "      <td>0.0</td>\n",
       "      <td>1</td>\n",
       "      <td>1</td>\n",
       "      <td>6.0</td>\n",
       "      <td>0</td>\n",
       "    </tr>\n",
       "    <tr>\n",
       "      <th>319793</th>\n",
       "      <td>0</td>\n",
       "      <td>32.81</td>\n",
       "      <td>0</td>\n",
       "      <td>0</td>\n",
       "      <td>0.0</td>\n",
       "      <td>1</td>\n",
       "      <td>0</td>\n",
       "      <td>12.0</td>\n",
       "      <td>0</td>\n",
       "    </tr>\n",
       "    <tr>\n",
       "      <th>319794</th>\n",
       "      <td>0</td>\n",
       "      <td>46.56</td>\n",
       "      <td>0</td>\n",
       "      <td>0</td>\n",
       "      <td>0.0</td>\n",
       "      <td>1</td>\n",
       "      <td>1</td>\n",
       "      <td>8.0</td>\n",
       "      <td>0</td>\n",
       "    </tr>\n",
       "  </tbody>\n",
       "</table>\n",
       "<p>319795 rows × 9 columns</p>\n",
       "</div>\n",
       "      <button class=\"colab-df-convert\" onclick=\"convertToInteractive('df-108a8124-0a87-45a6-aef5-1ef7aab5eec3')\"\n",
       "              title=\"Convert this dataframe to an interactive table.\"\n",
       "              style=\"display:none;\">\n",
       "        \n",
       "  <svg xmlns=\"http://www.w3.org/2000/svg\" height=\"24px\"viewBox=\"0 0 24 24\"\n",
       "       width=\"24px\">\n",
       "    <path d=\"M0 0h24v24H0V0z\" fill=\"none\"/>\n",
       "    <path d=\"M18.56 5.44l.94 2.06.94-2.06 2.06-.94-2.06-.94-.94-2.06-.94 2.06-2.06.94zm-11 1L8.5 8.5l.94-2.06 2.06-.94-2.06-.94L8.5 2.5l-.94 2.06-2.06.94zm10 10l.94 2.06.94-2.06 2.06-.94-2.06-.94-.94-2.06-.94 2.06-2.06.94z\"/><path d=\"M17.41 7.96l-1.37-1.37c-.4-.4-.92-.59-1.43-.59-.52 0-1.04.2-1.43.59L10.3 9.45l-7.72 7.72c-.78.78-.78 2.05 0 2.83L4 21.41c.39.39.9.59 1.41.59.51 0 1.02-.2 1.41-.59l7.78-7.78 2.81-2.81c.8-.78.8-2.07 0-2.86zM5.41 20L4 18.59l7.72-7.72 1.47 1.35L5.41 20z\"/>\n",
       "  </svg>\n",
       "      </button>\n",
       "      \n",
       "  <style>\n",
       "    .colab-df-container {\n",
       "      display:flex;\n",
       "      flex-wrap:wrap;\n",
       "      gap: 12px;\n",
       "    }\n",
       "\n",
       "    .colab-df-convert {\n",
       "      background-color: #E8F0FE;\n",
       "      border: none;\n",
       "      border-radius: 50%;\n",
       "      cursor: pointer;\n",
       "      display: none;\n",
       "      fill: #1967D2;\n",
       "      height: 32px;\n",
       "      padding: 0 0 0 0;\n",
       "      width: 32px;\n",
       "    }\n",
       "\n",
       "    .colab-df-convert:hover {\n",
       "      background-color: #E2EBFA;\n",
       "      box-shadow: 0px 1px 2px rgba(60, 64, 67, 0.3), 0px 1px 3px 1px rgba(60, 64, 67, 0.15);\n",
       "      fill: #174EA6;\n",
       "    }\n",
       "\n",
       "    [theme=dark] .colab-df-convert {\n",
       "      background-color: #3B4455;\n",
       "      fill: #D2E3FC;\n",
       "    }\n",
       "\n",
       "    [theme=dark] .colab-df-convert:hover {\n",
       "      background-color: #434B5C;\n",
       "      box-shadow: 0px 1px 3px 1px rgba(0, 0, 0, 0.15);\n",
       "      filter: drop-shadow(0px 1px 2px rgba(0, 0, 0, 0.3));\n",
       "      fill: #FFFFFF;\n",
       "    }\n",
       "  </style>\n",
       "\n",
       "      <script>\n",
       "        const buttonEl =\n",
       "          document.querySelector('#df-108a8124-0a87-45a6-aef5-1ef7aab5eec3 button.colab-df-convert');\n",
       "        buttonEl.style.display =\n",
       "          google.colab.kernel.accessAllowed ? 'block' : 'none';\n",
       "\n",
       "        async function convertToInteractive(key) {\n",
       "          const element = document.querySelector('#df-108a8124-0a87-45a6-aef5-1ef7aab5eec3');\n",
       "          const dataTable =\n",
       "            await google.colab.kernel.invokeFunction('convertToInteractive',\n",
       "                                                     [key], {});\n",
       "          if (!dataTable) return;\n",
       "\n",
       "          const docLinkHtml = 'Like what you see? Visit the ' +\n",
       "            '<a target=\"_blank\" href=https://colab.research.google.com/notebooks/data_table.ipynb>data table notebook</a>'\n",
       "            + ' to learn more about interactive tables.';\n",
       "          element.innerHTML = '';\n",
       "          dataTable['output_type'] = 'display_data';\n",
       "          await google.colab.output.renderOutput(dataTable, element);\n",
       "          const docLink = document.createElement('div');\n",
       "          docLink.innerHTML = docLinkHtml;\n",
       "          element.appendChild(docLink);\n",
       "        }\n",
       "      </script>\n",
       "    </div>\n",
       "  </div>\n",
       "  "
      ],
      "text/plain": [
       "       HeartDisease    BMI Smoking AlcoholDrinking  MentalHealth Sex  \\\n",
       "0                 0  16.60       1               0          30.0   1   \n",
       "1                 0  20.34       0               0           0.0   1   \n",
       "2                 0  26.58       1               0          30.0   0   \n",
       "3                 0  24.21       0               0           0.0   1   \n",
       "4                 0  23.71       0               0           0.0   1   \n",
       "...             ...    ...     ...             ...           ...  ..   \n",
       "319790            1  27.41       1               0           0.0   0   \n",
       "319791            0  29.84       1               0           0.0   0   \n",
       "319792            0  24.24       0               0           0.0   1   \n",
       "319793            0  32.81       0               0           0.0   1   \n",
       "319794            0  46.56       0               0           0.0   1   \n",
       "\n",
       "       PhysicalActivity  SleepTime Asthma  \n",
       "0                     1        5.0      1  \n",
       "1                     1        7.0      0  \n",
       "2                     1        8.0      1  \n",
       "3                     0        6.0      0  \n",
       "4                     1        8.0      0  \n",
       "...                 ...        ...    ...  \n",
       "319790                0        6.0      1  \n",
       "319791                1        5.0      1  \n",
       "319792                1        6.0      0  \n",
       "319793                0       12.0      0  \n",
       "319794                1        8.0      0  \n",
       "\n",
       "[319795 rows x 9 columns]"
      ]
     },
     "execution_count": 212,
     "metadata": {},
     "output_type": "execute_result"
    }
   ],
   "source": [
    "df1"
   ]
  },
  {
   "cell_type": "code",
   "execution_count": null,
   "metadata": {
    "id": "vWaz-_23e5Bg"
   },
   "outputs": [],
   "source": [
    "df1['HeartDisease'] = df1['HeartDisease'].astype('float')\n",
    "\n"
   ]
  },
  {
   "cell_type": "code",
   "execution_count": null,
   "metadata": {
    "id": "OGSi5FNjng_n"
   },
   "outputs": [],
   "source": []
  },
  {
   "cell_type": "code",
   "execution_count": null,
   "metadata": {
    "colab": {
     "base_uri": "https://localhost:8080/"
    },
    "id": "ftHkKXSGNGPl",
    "outputId": "5593b14a-210b-4c61-e91f-e0f4e9f61118"
   },
   "outputs": [
    {
     "data": {
      "text/plain": [
       "dtype('float64')"
      ]
     },
     "execution_count": 214,
     "metadata": {},
     "output_type": "execute_result"
    }
   ],
   "source": [
    "df1['HeartDisease'].dtype"
   ]
  },
  {
   "cell_type": "code",
   "execution_count": null,
   "metadata": {
    "id": "7KdNXSU8ML5a"
   },
   "outputs": [],
   "source": [
    "dataset=df1.values"
   ]
  },
  {
   "cell_type": "code",
   "execution_count": null,
   "metadata": {
    "id": "CMO0icByCFa_"
   },
   "outputs": [],
   "source": [
    "x=dataset[:,1:9]\n",
    "y=dataset[:,0]"
   ]
  },
  {
   "cell_type": "code",
   "execution_count": null,
   "metadata": {
    "id": "coCQJkb9Ke7s"
   },
   "outputs": [],
   "source": [
    "y=y.astype('float64')"
   ]
  },
  {
   "cell_type": "code",
   "execution_count": null,
   "metadata": {
    "colab": {
     "base_uri": "https://localhost:8080/"
    },
    "id": "YY60vL4VPaqL",
    "outputId": "67ed7baa-075a-43d0-cfff-9637b740bde9"
   },
   "outputs": [
    {
     "data": {
      "text/plain": [
       "dtype('float64')"
      ]
     },
     "execution_count": 220,
     "metadata": {},
     "output_type": "execute_result"
    }
   ],
   "source": [
    "y.dtype"
   ]
  },
  {
   "cell_type": "code",
   "execution_count": null,
   "metadata": {
    "id": "g6rHMw_De7YL"
   },
   "outputs": [],
   "source": [
    "from sklearn import preprocessing\n",
    "from sklearn.model_selection import train_test_split"
   ]
  },
  {
   "cell_type": "code",
   "execution_count": null,
   "metadata": {
    "id": "ovANFPlZElLJ"
   },
   "outputs": [],
   "source": [
    "min_max_scaler=preprocessing.MinMaxScaler()\n",
    "x_scale=min_max_scaler.fit_transform(x)"
   ]
  },
  {
   "cell_type": "code",
   "execution_count": null,
   "metadata": {
    "colab": {
     "base_uri": "https://localhost:8080/"
    },
    "id": "MCv29b74M0uk",
    "outputId": "6d083acc-a2c3-4c3f-d7f9-995ad612bcc2"
   },
   "outputs": [
    {
     "data": {
      "text/plain": [
       "dtype('float64')"
      ]
     },
     "execution_count": 224,
     "metadata": {},
     "output_type": "execute_result"
    }
   ],
   "source": [
    "y.dtype"
   ]
  },
  {
   "cell_type": "code",
   "execution_count": null,
   "metadata": {
    "id": "G_FKc8ZLk5hp"
   },
   "outputs": [],
   "source": [
    "X_train, X_val_and_test, Y_train, Y_val_and_test = train_test_split(x_scale, y, test_size=0.3)\n",
    "X_val, X_test, Y_val, Y_test = train_test_split(X_val_and_test, Y_val_and_test, test_size=0.5)"
   ]
  },
  {
   "cell_type": "code",
   "execution_count": null,
   "metadata": {
    "colab": {
     "base_uri": "https://localhost:8080/"
    },
    "id": "f8eJjB0ZKrBX",
    "outputId": "146528aa-ca40-4f61-9e3b-064d37ff2df6"
   },
   "outputs": [
    {
     "data": {
      "text/plain": [
       "(47970, 8)"
      ]
     },
     "execution_count": 240,
     "metadata": {},
     "output_type": "execute_result"
    }
   ],
   "source": [
    "X_test.shape"
   ]
  },
  {
   "cell_type": "code",
   "execution_count": null,
   "metadata": {
    "id": "odqbau-GlFrY"
   },
   "outputs": [],
   "source": [
    "from keras.models import Sequential\n",
    "from keras.layers import Dense\n"
   ]
  },
  {
   "cell_type": "code",
   "execution_count": null,
   "metadata": {
    "id": "leVIHN1RlGtS"
   },
   "outputs": [],
   "source": [
    "model=Sequential([\n",
    "    Dense(16,activation='relu',input_shape=(8,)),\n",
    "    Dense(16,activation='relu'),\n",
    "    Dense(16,activation='relu'),\n",
    "    Dense(1,activation='sigmoid'),\n",
    "])"
   ]
  },
  {
   "cell_type": "code",
   "execution_count": null,
   "metadata": {
    "id": "YTwkDXlkAChj"
   },
   "outputs": [],
   "source": [
    "model.compile(optimizer='adam',loss='binary_crossentropy',metrics=['accuracy'])"
   ]
  },
  {
   "cell_type": "code",
   "execution_count": null,
   "metadata": {
    "colab": {
     "base_uri": "https://localhost:8080/"
    },
    "id": "ChGHsFvlDM1S",
    "outputId": "75cab48a-c2ea-4344-edcc-72b7b4bcae19"
   },
   "outputs": [
    {
     "name": "stdout",
     "output_type": "stream",
     "text": [
      "Epoch 1/100\n",
      "6996/6996 [==============================] - 16s 2ms/step - loss: 0.2816 - accuracy: 0.9141 - val_loss: 0.2774 - val_accuracy: 0.9157\n",
      "Epoch 2/100\n",
      "6996/6996 [==============================] - 16s 2ms/step - loss: 0.2790 - accuracy: 0.9141 - val_loss: 0.2767 - val_accuracy: 0.9157\n",
      "Epoch 3/100\n",
      "6996/6996 [==============================] - 17s 2ms/step - loss: 0.2788 - accuracy: 0.9141 - val_loss: 0.2774 - val_accuracy: 0.9157\n",
      "Epoch 4/100\n",
      "6996/6996 [==============================] - 17s 2ms/step - loss: 0.2787 - accuracy: 0.9141 - val_loss: 0.2762 - val_accuracy: 0.9157\n",
      "Epoch 5/100\n",
      "6996/6996 [==============================] - 16s 2ms/step - loss: 0.2785 - accuracy: 0.9141 - val_loss: 0.2767 - val_accuracy: 0.9157\n",
      "Epoch 6/100\n",
      "6996/6996 [==============================] - 16s 2ms/step - loss: 0.2783 - accuracy: 0.9141 - val_loss: 0.2763 - val_accuracy: 0.9157\n",
      "Epoch 7/100\n",
      "6996/6996 [==============================] - 16s 2ms/step - loss: 0.2782 - accuracy: 0.9141 - val_loss: 0.2769 - val_accuracy: 0.9157\n",
      "Epoch 8/100\n",
      "6996/6996 [==============================] - 16s 2ms/step - loss: 0.2781 - accuracy: 0.9141 - val_loss: 0.2763 - val_accuracy: 0.9157\n",
      "Epoch 9/100\n",
      "6996/6996 [==============================] - 17s 2ms/step - loss: 0.2781 - accuracy: 0.9141 - val_loss: 0.2767 - val_accuracy: 0.9157\n",
      "Epoch 10/100\n",
      "6996/6996 [==============================] - 16s 2ms/step - loss: 0.2779 - accuracy: 0.9141 - val_loss: 0.2758 - val_accuracy: 0.9157\n",
      "Epoch 11/100\n",
      "6996/6996 [==============================] - 16s 2ms/step - loss: 0.2779 - accuracy: 0.9141 - val_loss: 0.2764 - val_accuracy: 0.9157\n",
      "Epoch 12/100\n",
      "6996/6996 [==============================] - 16s 2ms/step - loss: 0.2777 - accuracy: 0.9141 - val_loss: 0.2759 - val_accuracy: 0.9157\n",
      "Epoch 13/100\n",
      "6996/6996 [==============================] - 15s 2ms/step - loss: 0.2776 - accuracy: 0.9141 - val_loss: 0.2755 - val_accuracy: 0.9157\n",
      "Epoch 14/100\n",
      "6996/6996 [==============================] - 16s 2ms/step - loss: 0.2774 - accuracy: 0.9141 - val_loss: 0.2753 - val_accuracy: 0.9157\n",
      "Epoch 15/100\n",
      "6996/6996 [==============================] - 16s 2ms/step - loss: 0.2772 - accuracy: 0.9141 - val_loss: 0.2757 - val_accuracy: 0.9157\n",
      "Epoch 16/100\n",
      "6996/6996 [==============================] - 16s 2ms/step - loss: 0.2771 - accuracy: 0.9141 - val_loss: 0.2767 - val_accuracy: 0.9157\n",
      "Epoch 17/100\n",
      "6996/6996 [==============================] - 15s 2ms/step - loss: 0.2770 - accuracy: 0.9141 - val_loss: 0.2751 - val_accuracy: 0.9157\n",
      "Epoch 18/100\n",
      "6996/6996 [==============================] - 16s 2ms/step - loss: 0.2769 - accuracy: 0.9141 - val_loss: 0.2753 - val_accuracy: 0.9157\n",
      "Epoch 19/100\n",
      "6996/6996 [==============================] - 16s 2ms/step - loss: 0.2767 - accuracy: 0.9141 - val_loss: 0.2748 - val_accuracy: 0.9157\n",
      "Epoch 20/100\n",
      "6996/6996 [==============================] - 16s 2ms/step - loss: 0.2768 - accuracy: 0.9141 - val_loss: 0.2754 - val_accuracy: 0.9157\n",
      "Epoch 21/100\n",
      "6996/6996 [==============================] - 15s 2ms/step - loss: 0.2767 - accuracy: 0.9141 - val_loss: 0.2746 - val_accuracy: 0.9157\n",
      "Epoch 22/100\n",
      "6996/6996 [==============================] - 16s 2ms/step - loss: 0.2767 - accuracy: 0.9141 - val_loss: 0.2752 - val_accuracy: 0.9157\n",
      "Epoch 23/100\n",
      "6996/6996 [==============================] - 16s 2ms/step - loss: 0.2766 - accuracy: 0.9141 - val_loss: 0.2748 - val_accuracy: 0.9157\n",
      "Epoch 24/100\n",
      "6996/6996 [==============================] - 15s 2ms/step - loss: 0.2765 - accuracy: 0.9141 - val_loss: 0.2745 - val_accuracy: 0.9157\n",
      "Epoch 25/100\n",
      "6996/6996 [==============================] - 16s 2ms/step - loss: 0.2765 - accuracy: 0.9141 - val_loss: 0.2766 - val_accuracy: 0.9157\n",
      "Epoch 26/100\n",
      "6996/6996 [==============================] - 16s 2ms/step - loss: 0.2766 - accuracy: 0.9141 - val_loss: 0.2747 - val_accuracy: 0.9157\n",
      "Epoch 27/100\n",
      "6996/6996 [==============================] - 16s 2ms/step - loss: 0.2764 - accuracy: 0.9141 - val_loss: 0.2746 - val_accuracy: 0.9157\n",
      "Epoch 28/100\n",
      "6996/6996 [==============================] - 15s 2ms/step - loss: 0.2764 - accuracy: 0.9141 - val_loss: 0.2748 - val_accuracy: 0.9157\n",
      "Epoch 29/100\n",
      "6996/6996 [==============================] - 15s 2ms/step - loss: 0.2764 - accuracy: 0.9141 - val_loss: 0.2754 - val_accuracy: 0.9157\n",
      "Epoch 30/100\n",
      "6996/6996 [==============================] - 24s 3ms/step - loss: 0.2764 - accuracy: 0.9141 - val_loss: 0.2745 - val_accuracy: 0.9157\n",
      "Epoch 31/100\n",
      "6996/6996 [==============================] - 15s 2ms/step - loss: 0.2763 - accuracy: 0.9141 - val_loss: 0.2744 - val_accuracy: 0.9157\n",
      "Epoch 32/100\n",
      "6996/6996 [==============================] - 17s 2ms/step - loss: 0.2763 - accuracy: 0.9141 - val_loss: 0.2748 - val_accuracy: 0.9157\n",
      "Epoch 33/100\n",
      "6996/6996 [==============================] - 16s 2ms/step - loss: 0.2763 - accuracy: 0.9141 - val_loss: 0.2748 - val_accuracy: 0.9157\n",
      "Epoch 34/100\n",
      "6996/6996 [==============================] - 16s 2ms/step - loss: 0.2762 - accuracy: 0.9141 - val_loss: 0.2750 - val_accuracy: 0.9157\n",
      "Epoch 35/100\n",
      "6996/6996 [==============================] - 18s 3ms/step - loss: 0.2763 - accuracy: 0.9141 - val_loss: 0.2750 - val_accuracy: 0.9157\n",
      "Epoch 36/100\n",
      "6996/6996 [==============================] - 16s 2ms/step - loss: 0.2762 - accuracy: 0.9141 - val_loss: 0.2750 - val_accuracy: 0.9157\n",
      "Epoch 37/100\n",
      "6996/6996 [==============================] - 16s 2ms/step - loss: 0.2762 - accuracy: 0.9141 - val_loss: 0.2746 - val_accuracy: 0.9157\n",
      "Epoch 38/100\n",
      "6996/6996 [==============================] - 16s 2ms/step - loss: 0.2762 - accuracy: 0.9141 - val_loss: 0.2743 - val_accuracy: 0.9157\n",
      "Epoch 39/100\n",
      "6996/6996 [==============================] - 15s 2ms/step - loss: 0.2761 - accuracy: 0.9141 - val_loss: 0.2751 - val_accuracy: 0.9157\n",
      "Epoch 40/100\n",
      "6996/6996 [==============================] - 16s 2ms/step - loss: 0.2762 - accuracy: 0.9141 - val_loss: 0.2743 - val_accuracy: 0.9157\n",
      "Epoch 41/100\n",
      "6996/6996 [==============================] - 16s 2ms/step - loss: 0.2760 - accuracy: 0.9141 - val_loss: 0.2752 - val_accuracy: 0.9157\n",
      "Epoch 42/100\n",
      "6996/6996 [==============================] - 15s 2ms/step - loss: 0.2762 - accuracy: 0.9141 - val_loss: 0.2751 - val_accuracy: 0.9157\n",
      "Epoch 43/100\n",
      "6996/6996 [==============================] - 16s 2ms/step - loss: 0.2761 - accuracy: 0.9141 - val_loss: 0.2745 - val_accuracy: 0.9157\n",
      "Epoch 44/100\n",
      "6996/6996 [==============================] - 16s 2ms/step - loss: 0.2761 - accuracy: 0.9141 - val_loss: 0.2748 - val_accuracy: 0.9157\n",
      "Epoch 45/100\n",
      "6996/6996 [==============================] - 16s 2ms/step - loss: 0.2761 - accuracy: 0.9141 - val_loss: 0.2746 - val_accuracy: 0.9157\n",
      "Epoch 46/100\n",
      "6996/6996 [==============================] - 16s 2ms/step - loss: 0.2760 - accuracy: 0.9141 - val_loss: 0.2758 - val_accuracy: 0.9157\n",
      "Epoch 47/100\n",
      "6996/6996 [==============================] - 16s 2ms/step - loss: 0.2760 - accuracy: 0.9141 - val_loss: 0.2746 - val_accuracy: 0.9157\n",
      "Epoch 48/100\n",
      "6996/6996 [==============================] - 16s 2ms/step - loss: 0.2760 - accuracy: 0.9141 - val_loss: 0.2748 - val_accuracy: 0.9157\n",
      "Epoch 49/100\n",
      "6996/6996 [==============================] - 16s 2ms/step - loss: 0.2760 - accuracy: 0.9141 - val_loss: 0.2748 - val_accuracy: 0.9157\n",
      "Epoch 50/100\n",
      "6996/6996 [==============================] - 16s 2ms/step - loss: 0.2760 - accuracy: 0.9141 - val_loss: 0.2744 - val_accuracy: 0.9157\n",
      "Epoch 51/100\n",
      "6996/6996 [==============================] - 20s 3ms/step - loss: 0.2759 - accuracy: 0.9141 - val_loss: 0.2743 - val_accuracy: 0.9157\n",
      "Epoch 52/100\n",
      "6996/6996 [==============================] - 16s 2ms/step - loss: 0.2759 - accuracy: 0.9141 - val_loss: 0.2768 - val_accuracy: 0.9157\n",
      "Epoch 53/100\n",
      "6996/6996 [==============================] - 15s 2ms/step - loss: 0.2759 - accuracy: 0.9141 - val_loss: 0.2747 - val_accuracy: 0.9157\n",
      "Epoch 54/100\n",
      "6996/6996 [==============================] - 15s 2ms/step - loss: 0.2759 - accuracy: 0.9141 - val_loss: 0.2751 - val_accuracy: 0.9157\n",
      "Epoch 55/100\n",
      "6996/6996 [==============================] - 16s 2ms/step - loss: 0.2759 - accuracy: 0.9141 - val_loss: 0.2745 - val_accuracy: 0.9157\n",
      "Epoch 56/100\n",
      "6996/6996 [==============================] - 15s 2ms/step - loss: 0.2759 - accuracy: 0.9141 - val_loss: 0.2748 - val_accuracy: 0.9157\n",
      "Epoch 57/100\n",
      "6996/6996 [==============================] - 16s 2ms/step - loss: 0.2759 - accuracy: 0.9141 - val_loss: 0.2748 - val_accuracy: 0.9157\n",
      "Epoch 58/100\n",
      "6996/6996 [==============================] - 16s 2ms/step - loss: 0.2759 - accuracy: 0.9141 - val_loss: 0.2746 - val_accuracy: 0.9157\n",
      "Epoch 59/100\n",
      "6996/6996 [==============================] - 16s 2ms/step - loss: 0.2759 - accuracy: 0.9141 - val_loss: 0.2748 - val_accuracy: 0.9157\n",
      "Epoch 60/100\n",
      "6996/6996 [==============================] - 16s 2ms/step - loss: 0.2758 - accuracy: 0.9141 - val_loss: 0.2766 - val_accuracy: 0.9157\n",
      "Epoch 61/100\n",
      "6996/6996 [==============================] - 16s 2ms/step - loss: 0.2758 - accuracy: 0.9141 - val_loss: 0.2747 - val_accuracy: 0.9157\n",
      "Epoch 62/100\n",
      "6996/6996 [==============================] - 18s 3ms/step - loss: 0.2758 - accuracy: 0.9141 - val_loss: 0.2748 - val_accuracy: 0.9157\n",
      "Epoch 63/100\n",
      "6996/6996 [==============================] - 16s 2ms/step - loss: 0.2759 - accuracy: 0.9141 - val_loss: 0.2765 - val_accuracy: 0.9157\n",
      "Epoch 64/100\n",
      "6996/6996 [==============================] - 16s 2ms/step - loss: 0.2758 - accuracy: 0.9141 - val_loss: 0.2745 - val_accuracy: 0.9157\n",
      "Epoch 65/100\n",
      "6996/6996 [==============================] - 16s 2ms/step - loss: 0.2758 - accuracy: 0.9141 - val_loss: 0.2746 - val_accuracy: 0.9157\n",
      "Epoch 66/100\n",
      "6996/6996 [==============================] - 16s 2ms/step - loss: 0.2757 - accuracy: 0.9141 - val_loss: 0.2748 - val_accuracy: 0.9157\n",
      "Epoch 67/100\n",
      "6996/6996 [==============================] - 17s 2ms/step - loss: 0.2758 - accuracy: 0.9141 - val_loss: 0.2752 - val_accuracy: 0.9157\n",
      "Epoch 68/100\n",
      "6996/6996 [==============================] - 17s 2ms/step - loss: 0.2758 - accuracy: 0.9141 - val_loss: 0.2747 - val_accuracy: 0.9157\n",
      "Epoch 69/100\n",
      "6996/6996 [==============================] - 16s 2ms/step - loss: 0.2758 - accuracy: 0.9141 - val_loss: 0.2752 - val_accuracy: 0.9157\n",
      "Epoch 70/100\n",
      "6996/6996 [==============================] - 16s 2ms/step - loss: 0.2757 - accuracy: 0.9141 - val_loss: 0.2745 - val_accuracy: 0.9157\n",
      "Epoch 71/100\n",
      "6996/6996 [==============================] - 16s 2ms/step - loss: 0.2758 - accuracy: 0.9141 - val_loss: 0.2744 - val_accuracy: 0.9157\n",
      "Epoch 72/100\n",
      "6996/6996 [==============================] - 16s 2ms/step - loss: 0.2757 - accuracy: 0.9141 - val_loss: 0.2752 - val_accuracy: 0.9157\n",
      "Epoch 73/100\n",
      "6996/6996 [==============================] - 17s 2ms/step - loss: 0.2758 - accuracy: 0.9141 - val_loss: 0.2745 - val_accuracy: 0.9157\n",
      "Epoch 74/100\n",
      "6996/6996 [==============================] - 17s 2ms/step - loss: 0.2757 - accuracy: 0.9141 - val_loss: 0.2751 - val_accuracy: 0.9157\n",
      "Epoch 75/100\n",
      "6996/6996 [==============================] - 16s 2ms/step - loss: 0.2757 - accuracy: 0.9141 - val_loss: 0.2750 - val_accuracy: 0.9157\n",
      "Epoch 76/100\n",
      "6996/6996 [==============================] - 16s 2ms/step - loss: 0.2758 - accuracy: 0.9141 - val_loss: 0.2748 - val_accuracy: 0.9157\n",
      "Epoch 77/100\n",
      "6996/6996 [==============================] - 16s 2ms/step - loss: 0.2757 - accuracy: 0.9141 - val_loss: 0.2746 - val_accuracy: 0.9157\n",
      "Epoch 78/100\n",
      "6996/6996 [==============================] - 16s 2ms/step - loss: 0.2757 - accuracy: 0.9141 - val_loss: 0.2746 - val_accuracy: 0.9157\n",
      "Epoch 79/100\n",
      "6996/6996 [==============================] - 16s 2ms/step - loss: 0.2756 - accuracy: 0.9141 - val_loss: 0.2747 - val_accuracy: 0.9157\n",
      "Epoch 80/100\n",
      "6996/6996 [==============================] - 16s 2ms/step - loss: 0.2757 - accuracy: 0.9141 - val_loss: 0.2749 - val_accuracy: 0.9157\n",
      "Epoch 81/100\n",
      "6996/6996 [==============================] - 17s 2ms/step - loss: 0.2756 - accuracy: 0.9141 - val_loss: 0.2754 - val_accuracy: 0.9157\n",
      "Epoch 82/100\n",
      "6996/6996 [==============================] - 16s 2ms/step - loss: 0.2756 - accuracy: 0.9141 - val_loss: 0.2745 - val_accuracy: 0.9157\n",
      "Epoch 83/100\n",
      "6996/6996 [==============================] - 19s 3ms/step - loss: 0.2756 - accuracy: 0.9141 - val_loss: 0.2750 - val_accuracy: 0.9157\n",
      "Epoch 84/100\n",
      "6996/6996 [==============================] - 17s 2ms/step - loss: 0.2756 - accuracy: 0.9141 - val_loss: 0.2749 - val_accuracy: 0.9157\n",
      "Epoch 85/100\n",
      "6996/6996 [==============================] - 16s 2ms/step - loss: 0.2757 - accuracy: 0.9141 - val_loss: 0.2752 - val_accuracy: 0.9157\n",
      "Epoch 86/100\n",
      "6996/6996 [==============================] - 16s 2ms/step - loss: 0.2756 - accuracy: 0.9141 - val_loss: 0.2747 - val_accuracy: 0.9157\n",
      "Epoch 87/100\n",
      "6996/6996 [==============================] - 16s 2ms/step - loss: 0.2756 - accuracy: 0.9141 - val_loss: 0.2748 - val_accuracy: 0.9157\n",
      "Epoch 88/100\n",
      "6996/6996 [==============================] - 16s 2ms/step - loss: 0.2756 - accuracy: 0.9141 - val_loss: 0.2750 - val_accuracy: 0.9157\n",
      "Epoch 89/100\n",
      "6996/6996 [==============================] - 16s 2ms/step - loss: 0.2757 - accuracy: 0.9141 - val_loss: 0.2745 - val_accuracy: 0.9157\n",
      "Epoch 90/100\n",
      "6996/6996 [==============================] - 17s 2ms/step - loss: 0.2756 - accuracy: 0.9141 - val_loss: 0.2750 - val_accuracy: 0.9157\n",
      "Epoch 91/100\n",
      "6996/6996 [==============================] - 17s 2ms/step - loss: 0.2755 - accuracy: 0.9141 - val_loss: 0.2751 - val_accuracy: 0.9157\n",
      "Epoch 92/100\n",
      "6996/6996 [==============================] - 16s 2ms/step - loss: 0.2756 - accuracy: 0.9141 - val_loss: 0.2751 - val_accuracy: 0.9157\n",
      "Epoch 93/100\n",
      "6996/6996 [==============================] - 16s 2ms/step - loss: 0.2756 - accuracy: 0.9141 - val_loss: 0.2746 - val_accuracy: 0.9157\n",
      "Epoch 94/100\n",
      "6996/6996 [==============================] - 17s 2ms/step - loss: 0.2755 - accuracy: 0.9141 - val_loss: 0.2746 - val_accuracy: 0.9157\n",
      "Epoch 95/100\n",
      "6996/6996 [==============================] - 16s 2ms/step - loss: 0.2756 - accuracy: 0.9141 - val_loss: 0.2747 - val_accuracy: 0.9157\n",
      "Epoch 96/100\n",
      "6996/6996 [==============================] - 16s 2ms/step - loss: 0.2756 - accuracy: 0.9141 - val_loss: 0.2749 - val_accuracy: 0.9157\n",
      "Epoch 97/100\n",
      "6996/6996 [==============================] - 16s 2ms/step - loss: 0.2755 - accuracy: 0.9141 - val_loss: 0.2756 - val_accuracy: 0.9157\n",
      "Epoch 98/100\n",
      "6996/6996 [==============================] - 15s 2ms/step - loss: 0.2755 - accuracy: 0.9141 - val_loss: 0.2749 - val_accuracy: 0.9157\n",
      "Epoch 99/100\n",
      "6996/6996 [==============================] - 16s 2ms/step - loss: 0.2756 - accuracy: 0.9141 - val_loss: 0.2749 - val_accuracy: 0.9157\n",
      "Epoch 100/100\n",
      "6996/6996 [==============================] - 16s 2ms/step - loss: 0.2755 - accuracy: 0.9141 - val_loss: 0.2748 - val_accuracy: 0.9157\n"
     ]
    }
   ],
   "source": [
    "hist = model.fit(X_train, Y_train,\n",
    "          batch_size=32, epochs=100 ,validation_data=(X_val, Y_val))\n",
    "         "
   ]
  },
  {
   "cell_type": "code",
   "execution_count": null,
   "metadata": {
    "colab": {
     "base_uri": "https://localhost:8080/",
     "height": 295
    },
    "id": "2vLIhEvMIkDm",
    "outputId": "1725146a-1fa1-44aa-9292-7cb3f3ef77f6"
   },
   "outputs": [
    {
     "data": {
      "image/png": "[encoded data removed]",
      "text/plain": [
       "<Figure size 432x288 with 1 Axes>"
      ]
     },
     "metadata": {
      "needs_background": "light"
     },
     "output_type": "display_data"
    }
   ],
   "source": [
    "plt.plot(hist.history['loss'])\n",
    "plt.plot(hist.history['val_loss'])\n",
    "plt.title('Model loss')\n",
    "plt.ylabel('Loss')\n",
    "plt.xlabel('Epoch')\n",
    "plt.legend(['Train', 'Val'], loc='upper right')\n",
    "plt.show()"
   ]
  },
  {
   "cell_type": "code",
   "execution_count": null,
   "metadata": {
    "colab": {
     "base_uri": "https://localhost:8080/",
     "height": 295
    },
    "id": "TS6YvHM4JF8l",
    "outputId": "4fbe002e-b2de-4515-f6a5-de73512028ab"
   },
   "outputs": [
    {
     "data": {
      "image/png": "[encoded data removed]",
      "text/plain": [
       "<Figure size 432x288 with 1 Axes>"
      ]
     },
     "metadata": {
      "needs_background": "light"
     },
     "output_type": "display_data"
    }
   ],
   "source": [
    "plt.plot(hist.history['accuracy'])\n",
    "plt.plot(hist.history['val_accuracy'])\n",
    "plt.title('Model accuracy')\n",
    "plt.ylabel('Accuracy')\n",
    "plt.xlabel('Epoch')\n",
    "plt.legend(['Train', 'Val'], loc='lower right')\n",
    "plt.show()"
   ]
  },
  {
   "cell_type": "code",
   "execution_count": null,
   "metadata": {
    "colab": {
     "base_uri": "https://localhost:8080/"
    },
    "id": "VP-iNhQRAEBu",
    "outputId": "47d31f18-5d5f-46d2-b178-b3a6fa61707f"
   },
   "outputs": [
    {
     "name": "stdout",
     "output_type": "stream",
     "text": [
      "1500/1500 [==============================] - 2s 1ms/step\n"
     ]
    }
   ],
   "source": [
    "y_pred = model.predict(X_test)"
   ]
  },
  {
   "cell_type": "code",
   "execution_count": null,
   "metadata": {
    "colab": {
     "base_uri": "https://localhost:8080/"
    },
    "id": "gseeU63IHXMO",
    "outputId": "fb8ed302-6df6-464c-d293-c12352f2691b"
   },
   "outputs": [
    {
     "data": {
      "text/plain": [
       "(47970, 1)"
      ]
     },
     "execution_count": 60,
     "metadata": {},
     "output_type": "execute_result"
    }
   ],
   "source": [
    "y_pred.shape"
   ]
  },
  {
   "cell_type": "code",
   "execution_count": null,
   "metadata": {
    "id": "bAvl0v_5AL3v"
   },
   "outputs": [],
   "source": [
    "for i in range(y_pred.shape[0]):\n",
    "  if y_pred[i]>0.5:\n",
    "    y_pred[i] = 1\n",
    "  else:\n",
    "    y_pred[i] = 0"
   ]
  },
  {
   "cell_type": "code",
   "execution_count": null,
   "metadata": {
    "colab": {
     "base_uri": "https://localhost:8080/"
    },
    "id": "_mDFLa73YP27",
    "outputId": "702229a1-be50-4f09-9dea-3032f72ec29c"
   },
   "outputs": [
    {
     "data": {
      "text/plain": [
       "(47970, 1)"
      ]
     },
     "execution_count": 62,
     "metadata": {},
     "output_type": "execute_result"
    }
   ],
   "source": [
    "y_pred.shape"
   ]
  },
  {
   "cell_type": "code",
   "execution_count": null,
   "metadata": {
    "id": "hif38ygGAI45"
   },
   "outputs": [],
   "source": [
    "Y_test=y.astype('float32')"
   ]
  },
  {
   "cell_type": "code",
   "execution_count": null,
   "metadata": {
    "id": "ZgQVR_TNANAP"
   },
   "outputs": [],
   "source": [
    "from sklearn.metrics import confusion_matrix"
   ]
  },
  {
   "cell_type": "code",
   "execution_count": null,
   "metadata": {
    "colab": {
     "base_uri": "https://localhost:8080/"
    },
    "id": "4a-J-uTnCVZG",
    "outputId": "0fb2ec1d-c3e4-4979-d0be-fc8fff544b99"
   },
   "outputs": [
    {
     "data": {
      "text/plain": [
       "(50001,)"
      ]
     },
     "execution_count": 120,
     "metadata": {},
     "output_type": "execute_result"
    }
   ],
   "source": [
    "y.shape"
   ]
  },
  {
   "cell_type": "code",
   "execution_count": null,
   "metadata": {
    "id": "J5EbXvM6APnv"
   },
   "outputs": [],
   "source": [
    "\n",
    "cm = confusion_matrix(Y_test, y_pred)"
   ]
  },
  {
   "cell_type": "code",
   "execution_count": null,
   "metadata": {
    "colab": {
     "base_uri": "https://localhost:8080/"
    },
    "id": "k8OBrxs8ASZQ",
    "outputId": "2690e45b-8cc5-472c-97f1-8dc644b59ef9"
   },
   "outputs": [
    {
     "data": {
      "text/plain": [
       "array([[6872,    2],\n",
       "       [ 627,    0]])"
      ]
     },
     "execution_count": 126,
     "metadata": {},
     "output_type": "execute_result"
    }
   ],
   "source": [
    "cm"
   ]
  },
  {
   "cell_type": "code",
   "execution_count": null,
   "metadata": {
    "id": "7QpOCeUnY3DT"
   },
   "outputs": [],
   "source": [
    "TP=cm[0][0]\n",
    "\n",
    "TN=cm[1][1]\n",
    "\n",
    "FP=cm[0][1]\n",
    "FN=cm[1][0]"
   ]
  },
  {
   "cell_type": "code",
   "execution_count": null,
   "metadata": {
    "colab": {
     "base_uri": "https://localhost:8080/"
    },
    "id": "mEh8tjb9ZGSr",
    "outputId": "9648c4ea-ad6d-4cb4-fe61-be748d6d241a"
   },
   "outputs": [
    {
     "data": {
      "text/plain": [
       "0.9139462163852408"
      ]
     },
     "execution_count": 244,
     "metadata": {},
     "output_type": "execute_result"
    }
   ],
   "source": [
    "Accuracy = (TP + TN)/(TP + TN + FN + FP)\n",
    "Accuracy\n",
    "\n",
    "#Precision = TP / (TP + FP)\n",
    "#Precision\n",
    "\n",
    "#Recall = TP / (TP + FN)\n",
    "#Recall\n"
   ]
  },
  {
   "cell_type": "code",
   "execution_count": null,
   "metadata": {
    "colab": {
     "base_uri": "https://localhost:8080/"
    },
    "id": "7xff-2bRadAL",
    "outputId": "dec385cd-f1d1-4170-d22a-8f35da08b81a"
   },
   "outputs": [
    {
     "data": {
      "text/plain": [
       "0.9163888518469129"
      ]
     },
     "execution_count": 245,
     "metadata": {},
     "output_type": "execute_result"
    }
   ],
   "source": [
    "Recall"
   ]
  },
  {
   "cell_type": "code",
   "execution_count": null,
   "metadata": {
    "colab": {
     "base_uri": "https://localhost:8080/"
    },
    "id": "6Vwh0gw-agCL",
    "outputId": "e6a28356-1bd5-4a79-8a5c-fd5df8b3602b"
   },
   "outputs": [
    {
     "data": {
      "text/plain": [
       "0.9562373895498504"
      ]
     },
     "execution_count": 246,
     "metadata": {},
     "output_type": "execute_result"
    }
   ],
   "source": [
    "F1_Score = 2 * Precision * Recall / (Precision + Recall)\n",
    "F1_Score"
   ]
  },
  {
   "cell_type": "code",
   "execution_count": null,
   "metadata": {
    "id": "EdvI1i4aauoz"
   },
   "outputs": [],
   "source": [
    "Eval_Metrics = [Accuracy, Precision, Recall,  F1_Score]\n",
    "Metric_Names = ['Accuracy', 'Precision',  'Recall', 'F1 Score']"
   ]
  },
  {
   "cell_type": "code",
   "execution_count": null,
   "metadata": {
    "id": "CIPoUwXha8_D"
   },
   "outputs": [],
   "source": [
    "Metrics_pos = np.arange(len(Metric_Names))"
   ]
  },
  {
   "cell_type": "code",
   "execution_count": null,
   "metadata": {
    "colab": {
     "base_uri": "https://localhost:8080/"
    },
    "id": "AAbaXmW1a_Cz",
    "outputId": "5955aed0-8b26-4722-bf52-b2a466cddd93"
   },
   "outputs": [
    {
     "data": {
      "text/plain": [
       "array([0, 1, 2, 3])"
      ]
     },
     "execution_count": 249,
     "metadata": {},
     "output_type": "execute_result"
    }
   ],
   "source": [
    "Metrics_pos"
   ]
  },
  {
   "cell_type": "code",
   "execution_count": null,
   "metadata": {
    "colab": {
     "base_uri": "https://localhost:8080/",
     "height": 299
    },
    "id": "h4dNvLFWbzO0",
    "outputId": "d2460514-bffb-4039-9883-db2f98e59fd9"
   },
   "outputs": [
    {
     "data": {
      "image/png": "[encoded data removed]",
      "text/plain": [
       "<Figure size 432x288 with 1 Axes>"
      ]
     },
     "metadata": {
      "needs_background": "light"
     },
     "output_type": "display_data"
    },
    {
     "name": "stdout",
     "output_type": "stream",
     "text": [
      "0.9139462163852408 0.9997090485888857 0.9163888518469129 0.9562373895498504\n"
     ]
    }
   ],
   "source": [
    "plt.bar(Metrics_pos, Eval_Metrics)\n",
    "plt.xticks(Metrics_pos, Metric_Names)\n",
    "plt.title('Accuracy v Precision v  Recall  v F1 Score of the DNN model')\n",
    "plt.show()\n",
    "print(Accuracy, Precision, Recall,  F1_Score)\n"
   ]
  },
  {
   "cell_type": "code",
   "execution_count": null,
   "metadata": {
    "colab": {
     "base_uri": "https://localhost:8080/"
    },
    "id": "bfDgmGkEb4-L",
    "outputId": "587ec946-703f-484f-b77f-3809c61c11d5"
   },
   "outputs": [
    {
     "name": "stdout",
     "output_type": "stream",
     "text": [
      "precision: [0.91394622 0.        ]\n",
      "recall: [1. 0.]\n",
      "fscore: [0.95503856 0.        ]\n",
      "support: [43842  4128]\n"
     ]
    },
    {
     "name": "stderr",
     "output_type": "stream",
     "text": [
      "/usr/local/lib/python3.8/dist-packages/sklearn/metrics/_classification.py:1318: UndefinedMetricWarning: Precision and F-score are ill-defined and being set to 0.0 in labels with no predicted samples. Use `zero_division` parameter to control this behavior.\n",
      "  _warn_prf(average, modifier, msg_start, len(result))\n"
     ]
    }
   ],
   "source": [
    "from sklearn.metrics import precision_recall_fscore_support as score\n",
    "\n",
    "precision, recall, fscore, support = score(Y_test, y_pred)\n",
    "\n",
    "print('precision: {}'.format(precision))\n",
    "print('recall: {}'.format(recall))\n",
    "print('fscore: {}'.format(fscore))\n",
    "print('support: {}'.format(support))"
   ]
  },
  {
   "cell_type": "code",
   "execution_count": null,
   "metadata": {
    "id": "wUsDjkXNckt7"
   },
   "outputs": [],
   "source": []
  },
  {
   "cell_type": "code",
   "execution_count": null,
   "metadata": {
    "colab": {
     "base_uri": "https://localhost:8080/"
    },
    "id": "56gtMJ8keFbb",
    "outputId": "126b0bdb-9551-4823-9f0f-eabf4660a94c"
   },
   "outputs": [
    {
     "data": {
      "text/plain": [
       "<bound method Model.save of <keras.engine.sequential.Sequential object at 0x7fe0451bdc10>>"
      ]
     },
     "execution_count": 83,
     "metadata": {},
     "output_type": "execute_result"
    }
   ],
   "source": [
    "model.save"
   ]
  }
 ],
 "metadata": {
  "colab": {
   "provenance": []
  },
  "kernelspec": {
   "display_name": "Python 3 (ipykernel)",
   "language": "python",
   "name": "python3"
  },
  "language_info": {
   "codemirror_mode": {
    "name": "ipython",
    "version": 3
   },
   "file_extension": ".py",
   "mimetype": "text/x-python",
   "name": "python",
   "nbconvert_exporter": "python",
   "pygments_lexer": "ipython3",
   "version": "3.11.5"
  }
 },
 "nbformat": 4,
 "nbformat_minor": 4
}
